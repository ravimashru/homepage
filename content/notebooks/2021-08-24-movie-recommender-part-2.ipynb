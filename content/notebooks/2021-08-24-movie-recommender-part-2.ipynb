{
 "cells": [
  {
   "cell_type": "markdown",
   "id": "ab21b58c-a8cf-423d-a123-a655accd909c",
   "metadata": {},
   "source": [
    "# Building a Movie Recommender - Part 2\n",
    "\n",
    "This is the second post in a three-part series:\n",
    "\n",
    "1. [Part 1](https://ravimashru.dev/blog/2021-08-22-movie-recommender-part-1/) - we trained a model capable of recommending movies to users\n",
    "2. Part 2 (this post) - we will build a system to recommend movies to new users\n",
    "3. Part 3 - we will create an API and UI for our system and deploy them\n",
    "\n",
    "## Recap of Data and Model\n",
    "\n",
    "Let us take a brief look again at the dataset we are using."
   ]
  },
  {
   "cell_type": "code",
   "execution_count": 1,
   "id": "9c912b16-5563-4e1a-a317-e550716d9dc2",
   "metadata": {},
   "outputs": [
    {
     "data": {
      "text/html": [
       "<div>\n",
       "<style scoped>\n",
       "    .dataframe tbody tr th:only-of-type {\n",
       "        vertical-align: middle;\n",
       "    }\n",
       "\n",
       "    .dataframe tbody tr th {\n",
       "        vertical-align: top;\n",
       "    }\n",
       "\n",
       "    .dataframe thead th {\n",
       "        text-align: right;\n",
       "    }\n",
       "</style>\n",
       "<table border=\"1\" class=\"dataframe\">\n",
       "  <thead>\n",
       "    <tr style=\"text-align: right;\">\n",
       "      <th></th>\n",
       "      <th>user</th>\n",
       "      <th>movie</th>\n",
       "      <th>rating</th>\n",
       "      <th>timestamp</th>\n",
       "    </tr>\n",
       "  </thead>\n",
       "  <tbody>\n",
       "    <tr>\n",
       "      <th>0</th>\n",
       "      <td>196</td>\n",
       "      <td>242</td>\n",
       "      <td>3</td>\n",
       "      <td>881250949</td>\n",
       "    </tr>\n",
       "    <tr>\n",
       "      <th>1</th>\n",
       "      <td>186</td>\n",
       "      <td>302</td>\n",
       "      <td>3</td>\n",
       "      <td>891717742</td>\n",
       "    </tr>\n",
       "    <tr>\n",
       "      <th>2</th>\n",
       "      <td>22</td>\n",
       "      <td>377</td>\n",
       "      <td>1</td>\n",
       "      <td>878887116</td>\n",
       "    </tr>\n",
       "    <tr>\n",
       "      <th>3</th>\n",
       "      <td>244</td>\n",
       "      <td>51</td>\n",
       "      <td>2</td>\n",
       "      <td>880606923</td>\n",
       "    </tr>\n",
       "    <tr>\n",
       "      <th>4</th>\n",
       "      <td>166</td>\n",
       "      <td>346</td>\n",
       "      <td>1</td>\n",
       "      <td>886397596</td>\n",
       "    </tr>\n",
       "  </tbody>\n",
       "</table>\n",
       "</div>"
      ],
      "text/plain": [
       "   user  movie  rating  timestamp\n",
       "0   196    242       3  881250949\n",
       "1   186    302       3  891717742\n",
       "2    22    377       1  878887116\n",
       "3   244     51       2  880606923\n",
       "4   166    346       1  886397596"
      ]
     },
     "execution_count": 1,
     "metadata": {},
     "output_type": "execute_result"
    }
   ],
   "source": [
    "from fastai.collab import *\n",
    "from fastai.tabular.all import *\n",
    "\n",
    "path = untar_data(URLs.ML_100k)\n",
    "\n",
    "ratings = pd.read_csv(path/'u.data', delimiter='\\t', header=None,\n",
    "                      names=['user', 'movie', 'rating', 'timestamp'])\n",
    "\n",
    "ratings.head()"
   ]
  },
  {
   "cell_type": "markdown",
   "id": "e11f23d9-0492-4071-8b1d-e859dbbb1b0a",
   "metadata": {},
   "source": [
    "Each row in this table consists of a `rating` that a `user` gave to a `movie`.\n",
    "\n",
    "We can ignore the `timestamp` field for now since we didn't use it in our model.\n",
    "\n",
    "Let us also take a quick look at the model we trained in the [previous post](https://ravimashru.dev/blog/2021-08-22-movie-recommender-part-1/)."
   ]
  },
  {
   "cell_type": "code",
   "execution_count": 2,
   "id": "58bdf05c-8f6c-4c6d-968b-1f011954d64e",
   "metadata": {},
   "outputs": [
    {
     "data": {
      "text/plain": [
       "EmbeddingDotBias(\n",
       "  (u_weight): Embedding(944, 50)\n",
       "  (i_weight): Embedding(1665, 50)\n",
       "  (u_bias): Embedding(944, 1)\n",
       "  (i_bias): Embedding(1665, 1)\n",
       ")"
      ]
     },
     "execution_count": 2,
     "metadata": {},
     "output_type": "execute_result"
    }
   ],
   "source": [
    "learn = load_learner('movie-recommender-all-data.pkl')\n",
    "\n",
    "learn.model"
   ]
  },
  {
   "cell_type": "markdown",
   "id": "4035132a-2e66-41a1-a611-52ed832e4bfa",
   "metadata": {},
   "source": [
    "The model we trained has the following four components:\n",
    "\n",
    "1. `u_weight` - a set of 50-dimensional vectors for each of the 944 users in the dataset.\n",
    "2. `u_bias` - a bias value for each of the 944 users.\n",
    "3. `i_weight` - a set of 50-dimensional vectors for each of the 1665 movies in the dataset.\n",
    "4. `i_bias` - a bias value for each of the 1665 movies.\n",
    "\n",
    "## The Bootstrapping Problem\n",
    "\n",
    "Collaborative filtering systems like the movie recommender we are trying to create face the bootstrapping problem when one of two things occur:\n",
    "\n",
    "1. A **new user** signs up - which movies do we recommend to such a user?\n",
    "2. A **new movie** is added - to which users do we recommend the movie?\n",
    "\n",
    "\n",
    "### Signup Metadata\n",
    "\n",
    "Many sites ask new users a set of questions when they sign up. This signup metadata can then be used with a model trained to predict the new user's embedding vector from this signup metadata. This vector can then be used to predict the rating the new user would give to movies.\n",
    "\n",
    "### Average of All User Embeddings\n",
    "\n",
    "Another option would be to use an average of all the existing user embedding vectors as the new user's embedding vector.\n",
    "\n",
    "However, this would probably give terrible recommendations in the beginning as it is unlikely that such an average would be close to representing any user in the real world.\n",
    "\n",
    "### Pick \"Average User\"\n",
    "\n",
    "It is also possible to pick an existing user to represent the \"average user\" and provide recommendations based on this user's embedding vector. This works only if you have a way to pick such an average user. Even then, not all new user's tastes would match with this average user.\n",
    "\n",
    "## Recommending Movies to a New User\n",
    "\n",
    "We will use a combination of some of the above approaches. We will follow a five-step process to recommend movies to a new user:\n",
    "\n",
    "1. Ask the user to rate movies they have already seen\n",
    "2. Use the user's ratings to find top 5 similar users\n",
    "3. Assign the new user a vector that is the mean of these 5 users' vectors\n",
    "4. Use this calculated vector to predict how the new user would rate other movies\n",
    "5. Return the top 5 movies with the highest predicted rating as recommendations\n",
    "\n",
    "The more movies a user rates beforehand, the better the predictions will be. This wouldn't be ideal for a platform like Netflix because after users sign up, they wouldn't be too happy if they had to spend time rating movies they've watched instead of watching new ones. But for this toy project, this approach should be fine.\n",
    "\n",
    "Let us assume a new user has provided the following ratings:"
   ]
  },
  {
   "cell_type": "code",
   "execution_count": 3,
   "id": "7893722b-93b4-4380-b328-c0bc5bc40969",
   "metadata": {},
   "outputs": [],
   "source": [
    "# Each tuple represents a (movie, rating) combination\n",
    "user_ratings = [(15, 1), (16, 1), (18, 5), (19, 4), (242, 3)]"
   ]
  },
  {
   "cell_type": "markdown",
   "id": "37b4209d-9f83-4ae8-9d3b-912e6210932f",
   "metadata": {},
   "source": [
    "We first add these ratings to our dataset. We use the id `999` to represent a new user since this ID is not used in the original dataset."
   ]
  },
  {
   "cell_type": "code",
   "execution_count": 4,
   "id": "02262f61-55c2-4725-99f8-61b42120e798",
   "metadata": {},
   "outputs": [
    {
     "data": {
      "text/html": [
       "<div>\n",
       "<style scoped>\n",
       "    .dataframe tbody tr th:only-of-type {\n",
       "        vertical-align: middle;\n",
       "    }\n",
       "\n",
       "    .dataframe tbody tr th {\n",
       "        vertical-align: top;\n",
       "    }\n",
       "\n",
       "    .dataframe thead th {\n",
       "        text-align: right;\n",
       "    }\n",
       "</style>\n",
       "<table border=\"1\" class=\"dataframe\">\n",
       "  <thead>\n",
       "    <tr style=\"text-align: right;\">\n",
       "      <th></th>\n",
       "      <th>user</th>\n",
       "      <th>movie</th>\n",
       "      <th>rating</th>\n",
       "      <th>timestamp</th>\n",
       "    </tr>\n",
       "  </thead>\n",
       "  <tbody>\n",
       "    <tr>\n",
       "      <th>100000</th>\n",
       "      <td>999</td>\n",
       "      <td>15</td>\n",
       "      <td>1</td>\n",
       "      <td>NaN</td>\n",
       "    </tr>\n",
       "    <tr>\n",
       "      <th>100001</th>\n",
       "      <td>999</td>\n",
       "      <td>16</td>\n",
       "      <td>1</td>\n",
       "      <td>NaN</td>\n",
       "    </tr>\n",
       "    <tr>\n",
       "      <th>100002</th>\n",
       "      <td>999</td>\n",
       "      <td>18</td>\n",
       "      <td>5</td>\n",
       "      <td>NaN</td>\n",
       "    </tr>\n",
       "    <tr>\n",
       "      <th>100003</th>\n",
       "      <td>999</td>\n",
       "      <td>19</td>\n",
       "      <td>4</td>\n",
       "      <td>NaN</td>\n",
       "    </tr>\n",
       "    <tr>\n",
       "      <th>100004</th>\n",
       "      <td>999</td>\n",
       "      <td>242</td>\n",
       "      <td>3</td>\n",
       "      <td>NaN</td>\n",
       "    </tr>\n",
       "  </tbody>\n",
       "</table>\n",
       "</div>"
      ],
      "text/plain": [
       "        user  movie  rating  timestamp\n",
       "100000   999     15       1        NaN\n",
       "100001   999     16       1        NaN\n",
       "100002   999     18       5        NaN\n",
       "100003   999     19       4        NaN\n",
       "100004   999    242       3        NaN"
      ]
     },
     "execution_count": 4,
     "metadata": {},
     "output_type": "execute_result"
    }
   ],
   "source": [
    "user_ratings_dicts = []\n",
    "for (movie_id, rating) in user_ratings:\n",
    "    user_ratings_dicts.append({\"user\": 999, \"movie\": movie_id, \"rating\": rating})\n",
    "\n",
    "new_ratings = ratings.append(user_ratings_dicts, ignore_index=True)\n",
    "new_ratings.tail()"
   ]
  },
  {
   "cell_type": "markdown",
   "id": "e45c16ff-6059-4637-9f3f-0fcb9c1fa15b",
   "metadata": {},
   "source": [
    "The value of `timestamp` is not used so we can safely ignore the `NaN` values.\n",
    "\n",
    "We can now cross-tabulate this data and see the entry created for our new user."
   ]
  },
  {
   "cell_type": "code",
   "execution_count": 5,
   "id": "d731844e-4557-441a-b0aa-bd6bee5b6868",
   "metadata": {},
   "outputs": [
    {
     "data": {
      "text/html": [
       "<div>\n",
       "<style scoped>\n",
       "    .dataframe tbody tr th:only-of-type {\n",
       "        vertical-align: middle;\n",
       "    }\n",
       "\n",
       "    .dataframe tbody tr th {\n",
       "        vertical-align: top;\n",
       "    }\n",
       "\n",
       "    .dataframe thead th {\n",
       "        text-align: right;\n",
       "    }\n",
       "</style>\n",
       "<table border=\"1\" class=\"dataframe\">\n",
       "  <thead>\n",
       "    <tr style=\"text-align: right;\">\n",
       "      <th>movie</th>\n",
       "      <th>1</th>\n",
       "      <th>2</th>\n",
       "      <th>3</th>\n",
       "      <th>4</th>\n",
       "      <th>5</th>\n",
       "      <th>6</th>\n",
       "      <th>7</th>\n",
       "      <th>8</th>\n",
       "      <th>9</th>\n",
       "      <th>10</th>\n",
       "      <th>...</th>\n",
       "      <th>1673</th>\n",
       "      <th>1674</th>\n",
       "      <th>1675</th>\n",
       "      <th>1676</th>\n",
       "      <th>1677</th>\n",
       "      <th>1678</th>\n",
       "      <th>1679</th>\n",
       "      <th>1680</th>\n",
       "      <th>1681</th>\n",
       "      <th>1682</th>\n",
       "    </tr>\n",
       "    <tr>\n",
       "      <th>user</th>\n",
       "      <th></th>\n",
       "      <th></th>\n",
       "      <th></th>\n",
       "      <th></th>\n",
       "      <th></th>\n",
       "      <th></th>\n",
       "      <th></th>\n",
       "      <th></th>\n",
       "      <th></th>\n",
       "      <th></th>\n",
       "      <th></th>\n",
       "      <th></th>\n",
       "      <th></th>\n",
       "      <th></th>\n",
       "      <th></th>\n",
       "      <th></th>\n",
       "      <th></th>\n",
       "      <th></th>\n",
       "      <th></th>\n",
       "      <th></th>\n",
       "      <th></th>\n",
       "    </tr>\n",
       "  </thead>\n",
       "  <tbody>\n",
       "    <tr>\n",
       "      <th>940</th>\n",
       "      <td>0.0</td>\n",
       "      <td>0.0</td>\n",
       "      <td>0.0</td>\n",
       "      <td>2.0</td>\n",
       "      <td>0.0</td>\n",
       "      <td>0.0</td>\n",
       "      <td>4.0</td>\n",
       "      <td>5.0</td>\n",
       "      <td>3.0</td>\n",
       "      <td>0.0</td>\n",
       "      <td>...</td>\n",
       "      <td>0.0</td>\n",
       "      <td>0.0</td>\n",
       "      <td>0.0</td>\n",
       "      <td>0.0</td>\n",
       "      <td>0.0</td>\n",
       "      <td>0.0</td>\n",
       "      <td>0.0</td>\n",
       "      <td>0.0</td>\n",
       "      <td>0.0</td>\n",
       "      <td>0.0</td>\n",
       "    </tr>\n",
       "    <tr>\n",
       "      <th>941</th>\n",
       "      <td>5.0</td>\n",
       "      <td>0.0</td>\n",
       "      <td>0.0</td>\n",
       "      <td>0.0</td>\n",
       "      <td>0.0</td>\n",
       "      <td>0.0</td>\n",
       "      <td>4.0</td>\n",
       "      <td>0.0</td>\n",
       "      <td>0.0</td>\n",
       "      <td>0.0</td>\n",
       "      <td>...</td>\n",
       "      <td>0.0</td>\n",
       "      <td>0.0</td>\n",
       "      <td>0.0</td>\n",
       "      <td>0.0</td>\n",
       "      <td>0.0</td>\n",
       "      <td>0.0</td>\n",
       "      <td>0.0</td>\n",
       "      <td>0.0</td>\n",
       "      <td>0.0</td>\n",
       "      <td>0.0</td>\n",
       "    </tr>\n",
       "    <tr>\n",
       "      <th>942</th>\n",
       "      <td>0.0</td>\n",
       "      <td>0.0</td>\n",
       "      <td>0.0</td>\n",
       "      <td>0.0</td>\n",
       "      <td>0.0</td>\n",
       "      <td>0.0</td>\n",
       "      <td>0.0</td>\n",
       "      <td>0.0</td>\n",
       "      <td>0.0</td>\n",
       "      <td>0.0</td>\n",
       "      <td>...</td>\n",
       "      <td>0.0</td>\n",
       "      <td>0.0</td>\n",
       "      <td>0.0</td>\n",
       "      <td>0.0</td>\n",
       "      <td>0.0</td>\n",
       "      <td>0.0</td>\n",
       "      <td>0.0</td>\n",
       "      <td>0.0</td>\n",
       "      <td>0.0</td>\n",
       "      <td>0.0</td>\n",
       "    </tr>\n",
       "    <tr>\n",
       "      <th>943</th>\n",
       "      <td>0.0</td>\n",
       "      <td>5.0</td>\n",
       "      <td>0.0</td>\n",
       "      <td>0.0</td>\n",
       "      <td>0.0</td>\n",
       "      <td>0.0</td>\n",
       "      <td>0.0</td>\n",
       "      <td>0.0</td>\n",
       "      <td>3.0</td>\n",
       "      <td>0.0</td>\n",
       "      <td>...</td>\n",
       "      <td>0.0</td>\n",
       "      <td>0.0</td>\n",
       "      <td>0.0</td>\n",
       "      <td>0.0</td>\n",
       "      <td>0.0</td>\n",
       "      <td>0.0</td>\n",
       "      <td>0.0</td>\n",
       "      <td>0.0</td>\n",
       "      <td>0.0</td>\n",
       "      <td>0.0</td>\n",
       "    </tr>\n",
       "    <tr>\n",
       "      <th>999</th>\n",
       "      <td>0.0</td>\n",
       "      <td>0.0</td>\n",
       "      <td>0.0</td>\n",
       "      <td>0.0</td>\n",
       "      <td>0.0</td>\n",
       "      <td>0.0</td>\n",
       "      <td>0.0</td>\n",
       "      <td>0.0</td>\n",
       "      <td>0.0</td>\n",
       "      <td>0.0</td>\n",
       "      <td>...</td>\n",
       "      <td>0.0</td>\n",
       "      <td>0.0</td>\n",
       "      <td>0.0</td>\n",
       "      <td>0.0</td>\n",
       "      <td>0.0</td>\n",
       "      <td>0.0</td>\n",
       "      <td>0.0</td>\n",
       "      <td>0.0</td>\n",
       "      <td>0.0</td>\n",
       "      <td>0.0</td>\n",
       "    </tr>\n",
       "  </tbody>\n",
       "</table>\n",
       "<p>5 rows × 1682 columns</p>\n",
       "</div>"
      ],
      "text/plain": [
       "movie  1     2     3     4     5     6     7     8     9     10    ...  1673  \\\n",
       "user                                                               ...         \n",
       "940     0.0   0.0   0.0   2.0   0.0   0.0   4.0   5.0   3.0   0.0  ...   0.0   \n",
       "941     5.0   0.0   0.0   0.0   0.0   0.0   4.0   0.0   0.0   0.0  ...   0.0   \n",
       "942     0.0   0.0   0.0   0.0   0.0   0.0   0.0   0.0   0.0   0.0  ...   0.0   \n",
       "943     0.0   5.0   0.0   0.0   0.0   0.0   0.0   0.0   3.0   0.0  ...   0.0   \n",
       "999     0.0   0.0   0.0   0.0   0.0   0.0   0.0   0.0   0.0   0.0  ...   0.0   \n",
       "\n",
       "movie  1674  1675  1676  1677  1678  1679  1680  1681  1682  \n",
       "user                                                         \n",
       "940     0.0   0.0   0.0   0.0   0.0   0.0   0.0   0.0   0.0  \n",
       "941     0.0   0.0   0.0   0.0   0.0   0.0   0.0   0.0   0.0  \n",
       "942     0.0   0.0   0.0   0.0   0.0   0.0   0.0   0.0   0.0  \n",
       "943     0.0   0.0   0.0   0.0   0.0   0.0   0.0   0.0   0.0  \n",
       "999     0.0   0.0   0.0   0.0   0.0   0.0   0.0   0.0   0.0  \n",
       "\n",
       "[5 rows x 1682 columns]"
      ]
     },
     "execution_count": 5,
     "metadata": {},
     "output_type": "execute_result"
    }
   ],
   "source": [
    "crosstab = pd.crosstab(new_ratings['user'], new_ratings['movie'], values=new_ratings['rating'], aggfunc='sum').fillna(0)\n",
    "crosstab.tail()"
   ]
  },
  {
   "cell_type": "markdown",
   "id": "964ebf96-227b-4f03-babb-fdfb796a8cc6",
   "metadata": {},
   "source": [
    "Our aim is to now compare the new user (last row) with all other users. We can do this by finding the cosine similarity between the last row and the rest of the rows."
   ]
  },
  {
   "cell_type": "code",
   "execution_count": 6,
   "id": "5de733a1-75d8-4ce7-b115-ce95140fac73",
   "metadata": {},
   "outputs": [
    {
     "data": {
      "text/plain": [
       "tensor([0.1429, 0.1236, 0.0000, 0.0000, 0.0000])"
      ]
     },
     "execution_count": 6,
     "metadata": {},
     "output_type": "execute_result"
    }
   ],
   "source": [
    "other_users = crosstab.values[:-1]\n",
    "new_user = crosstab.values[-1].reshape(1, -1)\n",
    "\n",
    "similarities = nn.CosineSimilarity()(tensor(other_users), tensor(new_user))\n",
    "similarities[:5]"
   ]
  },
  {
   "cell_type": "markdown",
   "id": "c16733a8-458c-4759-802f-4a6ae05eaf1b",
   "metadata": {},
   "source": [
    "A user that has given similar ratings to movies as the new user will have a higher cosine similarity value.\n",
    "\n",
    "We now choose the top 5 users in our dataset that like (and dislike) the same movies as our new user."
   ]
  },
  {
   "cell_type": "code",
   "execution_count": 7,
   "id": "2f3a34d5-1aa0-49cb-a459-a73eb9ca1d23",
   "metadata": {},
   "outputs": [
    {
     "data": {
      "text/plain": [
       "torch.return_types.topk(\n",
       "values=tensor([0.2195, 0.2195, 0.1843, 0.1701, 0.1693]),\n",
       "indices=tensor([305, 593, 130, 724,  13]))"
      ]
     },
     "execution_count": 7,
     "metadata": {},
     "output_type": "execute_result"
    }
   ],
   "source": [
    "top5 = similarities.topk(5)\n",
    "top5"
   ]
  },
  {
   "cell_type": "markdown",
   "id": "f28851ef-13bf-465a-a1eb-d9e558949395",
   "metadata": {},
   "source": [
    "Note: the similarity values are not so great because we've provided only a handful of ratings for the new user. The more ratings we provide for this user, the more likely it is to find a match with an existing user in our dataset that has similar taste.\n",
    "\n",
    "We then calculate the mean of the vectors of these 5 users to generate a vector that represents our new user."
   ]
  },
  {
   "cell_type": "code",
   "execution_count": 8,
   "id": "9beac298-dd00-46bd-af15-d4cbaf239f45",
   "metadata": {},
   "outputs": [
    {
     "data": {
      "text/plain": [
       "tensor([[ 0.0065, -0.1063, -0.1882, -0.1264, -0.1254, -0.1584, -0.0886,  0.0651,\n",
       "         -0.0840, -0.1263, -0.0949,  0.1772, -0.0982, -0.0798,  0.1242,  0.0993,\n",
       "          0.0164,  0.0501, -0.0850,  0.1100,  0.0925, -0.0747, -0.0946, -0.0541,\n",
       "          0.0779,  0.0114,  0.0725,  0.1328, -0.1182, -0.0824, -0.1246, -0.0903,\n",
       "          0.0949, -0.0944, -0.1412,  0.1149, -0.0805,  0.0979, -0.1231,  0.1039,\n",
       "          0.0071,  0.1134,  0.1999,  0.0573, -0.0493,  0.1578, -0.0366,  0.0581,\n",
       "         -0.0643,  0.0364]], grad_fn=<MeanBackward1>)"
      ]
     },
     "execution_count": 8,
     "metadata": {},
     "output_type": "execute_result"
    }
   ],
   "source": [
    "# We add 1 to the indices to compensate for #na# in the model\n",
    "user_vectors = learn.u_weight.weight[1+top5.indices,:]\n",
    "\n",
    "new_user_vector = user_vectors.mean(dim=0, keepdim=True)\n",
    "new_user_vector"
   ]
  },
  {
   "cell_type": "markdown",
   "id": "0a2f73be-0a7d-4276-b27d-0928b04fd8ab",
   "metadata": {},
   "source": [
    "We can also use the mean value of the bias of these 5 users as the bias value for the new user."
   ]
  },
  {
   "cell_type": "code",
   "execution_count": 9,
   "id": "504f3f09-cb52-4e1a-8f85-501dfba00652",
   "metadata": {},
   "outputs": [
    {
     "data": {
      "text/plain": [
       "tensor(0.1654, grad_fn=<MeanBackward0>)"
      ]
     },
     "execution_count": 9,
     "metadata": {},
     "output_type": "execute_result"
    }
   ],
   "source": [
    "user_biases = learn.u_bias.weight[1+top5.indices,:]\n",
    "new_user_bias = user_biases.mean()\n",
    "new_user_bias"
   ]
  },
  {
   "cell_type": "markdown",
   "id": "54f9585a-3ec3-4f1a-9025-d3732481e314",
   "metadata": {},
   "source": [
    "With values for the vector and bias of our new user, we can now predict the rating for all movies in our dataset."
   ]
  },
  {
   "cell_type": "code",
   "execution_count": 10,
   "id": "78c31018-9f4a-4de9-aee8-3b1404030060",
   "metadata": {},
   "outputs": [
    {
     "data": {
      "text/plain": [
       "tensor([[ 0.1632, -0.2196,  0.3719,  ..., -0.1531,  0.4604,  0.2233]],\n",
       "       grad_fn=<AddBackward0>)"
      ]
     },
     "execution_count": 10,
     "metadata": {},
     "output_type": "execute_result"
    }
   ],
   "source": [
    "pred_ratings = torch.matmul(new_user_vector, learn.i_weight.weight.T) + learn.i_bias.weight.T + new_user_bias\n",
    "pred_ratings"
   ]
  },
  {
   "cell_type": "markdown",
   "id": "b5ea1f36-0677-4747-8ef0-0793e9f86f67",
   "metadata": {},
   "source": [
    "We finally consider the top 5 movies with the highest predicted rating and extract their names from the model."
   ]
  },
  {
   "cell_type": "code",
   "execution_count": 11,
   "id": "84ba90c8-1a1b-48b5-94cb-fd287100499e",
   "metadata": {},
   "outputs": [
    {
     "name": "stdout",
     "output_type": "stream",
     "text": [
      "1. Close Shave, A (1995)\n",
      "2. Wrong Trousers, The (1993)\n",
      "3. Schindler's List (1993)\n",
      "4. Shawshank Redemption, The (1994)\n",
      "5. Usual Suspects, The (1995)\n"
     ]
    }
   ],
   "source": [
    "top5_ratings = pred_ratings.topk(5)\n",
    "recommendations = learn.classes['title'][top5_ratings.indices.tolist()[0]]\n",
    "\n",
    "for i, movie in enumerate(recommendations):\n",
    "    print(f'{i+1}. {movie}')"
   ]
  },
  {
   "cell_type": "markdown",
   "id": "a3751091-9876-465f-b038-a00455782731",
   "metadata": {},
   "source": [
    "## Next steps\n",
    "\n",
    "In this post, we looked at:\n",
    "\n",
    "- The bootstrapping problem in collaborative filtering models\n",
    "- Some ways of addressing the bootstrapping problem\n",
    "- One simple approach to recommend movies to new users\n",
    "\n",
    "In the next post, we'll deploy our model to a cloud service and create a simple web application that users can use to rate movies they have seen and get movie recommendations using the approach we have looked at in this post."
   ]
  }
 ],
 "metadata": {
  "title": "Building a Movie Recommender - Part 2",
  "date": "2021-08-24",
  "kernelspec": {
   "display_name": "Python 3",
   "language": "python",
   "name": "python3"
  },
  "language_info": {
   "codemirror_mode": {
    "name": "ipython",
    "version": 3
   },
   "file_extension": ".py",
   "mimetype": "text/x-python",
   "name": "python",
   "nbconvert_exporter": "python",
   "pygments_lexer": "ipython3",
   "version": "3.9.6"
  }
 },
 "nbformat": 4,
 "nbformat_minor": 5
}