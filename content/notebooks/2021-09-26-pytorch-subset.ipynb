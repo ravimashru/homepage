{
 "cells": [
  {
   "cell_type": "markdown",
   "source": [
    "# Using a Subset of data in PyTorch\n",
    "\n",
    "When training deep learning models, you'll often want to try out new ideas and see what effect it has on your model.\n",
    "\n",
    "It becomes very important to have a very high iteration speed. The faster you can train a model, the faster you can test different ideas and see how they impact the performance of the model.\n",
    "\n",
    "> The more experiments you can do, the better!   \n",
    "> -- Deep Learning for Coders with fastai & PyTorch\n",
    "\n",
    "If your model takes too long to train, you can reduce the training time by either using a simpler model, or by using a smaller dataset.\n",
    "\n",
    "One way to reduce the size of a dataset is to use only a subset of the classes it contains. The [Imagenette](https://github.com/fastai/imagenette) dataset is an example of this. It contains a subset of 10 classes from the larger [ImageNet](https://www.image-net.org/) dataset. Because it's smaller in size, it allows anyone to train state-of-the-art image classification models even if they don't have access to state-of-the-art computing resources, in a short period of time.\n",
    "\n",
    "In this short post, we'll learn how to use the `Subset` class in PyTorch to use a small part of a larger dataset for training models quickly.\n",
    "\n",
    "The method we will learn applies to any instance of a PyTorch dataset. For simplicity, let us assume we are interested in using the CIFAR10 dataset."
   ],
   "metadata": {}
  },
  {
   "cell_type": "code",
   "execution_count": null,
   "source": [
    "# import the required modules\n",
    "import torch\n",
    "from torchvision.datasets import CIFAR10\n",
    "from torchvision import transforms\n",
    "\n",
    "# No fancy transforms, we just convert the image to a tensor\n",
    "transform = transforms.ToTensor()\n",
    "\n",
    "# create training dataset\n",
    "trainset = CIFAR10(root='./data', train=True, download=True, transform=transform)"
   ],
   "outputs": [],
   "metadata": {}
  },
  {
   "cell_type": "markdown",
   "source": [
    "Let us assume that we want to create a subset with just two classes from this complete dataset: 1 and 8.\n",
    "\n",
    "The first thing we would need to do is get the index of all samples in this dataset that have classes 1 and 8."
   ],
   "metadata": {}
  },
  {
   "cell_type": "code",
   "execution_count": 49,
   "source": [
    "# We create a tensor that has `True` at an index if the sample belongs to class 1\n",
    "idx1 = torch.tensor(trainset.targets) == 1\n",
    "\n",
    "# Similarly, this tensor has `True` at an index if the sample belongs to class 8\n",
    "idx8 = torch.tensor(trainset.targets) == 8"
   ],
   "outputs": [],
   "metadata": {}
  },
  {
   "cell_type": "markdown",
   "source": [
    "We then merge these two so that we have one Boolean tensor that has `True` at the index where the sample is of class 1 or 8, and `False` otherwise."
   ],
   "metadata": {}
  },
  {
   "cell_type": "code",
   "execution_count": 90,
   "source": [
    "train_mask = idx1 | idx8\n",
    "train_mask"
   ],
   "outputs": [
    {
     "output_type": "execute_result",
     "data": {
      "text/plain": [
       "tensor([False, False, False,  ..., False,  True,  True])"
      ]
     },
     "metadata": {},
     "execution_count": 90
    }
   ],
   "metadata": {}
  },
  {
   "cell_type": "markdown",
   "source": [
    "We used the [bitwise OR](https://pytorch.org/docs/stable/generated/torch.bitwise_or.html) operator here. \n",
    "\n",
    "In a nutshell, this operator gives us an output of `False` at a particular index if items in `idx1` and `idx8` at that index are BOTH `False`.\n",
    "\n",
    "If either `idx1` or `idx8` have `True` at that index (which means the sample at that index is of either class 1 or class 8), then the tensor will have a value of `True` at that index.\n",
    "\n",
    "![](/torch_or.png)\n",
    "\n",
    "We then need to convert this into a list of indices at which we have `True`.\n",
    "\n",
    "![](/torch_nonzero.png)\n",
    "\n",
    "We can do this using the [nonzero](https://pytorch.org/docs/stable/generated/torch.nonzero.html) method in PyTorch."
   ],
   "metadata": {}
  },
  {
   "cell_type": "code",
   "execution_count": 95,
   "source": [
    "train_indices = train_mask.nonzero().reshape(-1)\n",
    "train_indices"
   ],
   "outputs": [
    {
     "output_type": "execute_result",
     "data": {
      "text/plain": [
       "tensor([    4,     5,     8,  ..., 49993, 49998, 49999])"
      ]
     },
     "metadata": {},
     "execution_count": 95
    }
   ],
   "metadata": {}
  },
  {
   "cell_type": "markdown",
   "source": [
    "We can then create a subset by specifying these indices as follows:"
   ],
   "metadata": {}
  },
  {
   "cell_type": "code",
   "execution_count": 96,
   "source": [
    "# First, we import the `Subset` class\n",
    "from torch.utils.data import Subset\n",
    "\n",
    "# We then pass the original dataset and the indices we are interested in\n",
    "train_subset = Subset(trainset, train_indices)"
   ],
   "outputs": [],
   "metadata": {}
  },
  {
   "cell_type": "markdown",
   "source": [
    "The subset will now only pick samples from the underlying dataset at the indices which have a value of `True` in the `train_indices` that we passed.\n",
    "\n",
    "We can then use `train_subset` like any other dataset in PyTorch.\n",
    "\n",
    "Let us create a `DataLoader` with the subset and verify it fetches only samples of the classes we have specified. "
   ],
   "metadata": {}
  },
  {
   "cell_type": "code",
   "execution_count": 97,
   "source": [
    "# import the DataLoader class\n",
    "from torch.utils.data import DataLoader\n",
    "\n",
    "# Create a dataloader from the subset as usual\n",
    "train_dataloader = DataLoader(train_subset, shuffle=False, batch_size=8)"
   ],
   "outputs": [],
   "metadata": {}
  },
  {
   "cell_type": "markdown",
   "source": [
    "Let us now fetch a few batches from the dataloader and verify that the targets are from only classes 1 and 8."
   ],
   "metadata": {}
  },
  {
   "cell_type": "code",
   "execution_count": 98,
   "source": [
    "for i, (_, targets) in enumerate(train_dataloader):\n",
    "    print(targets)\n",
    "    \n",
    "    if i == 3: break"
   ],
   "outputs": [
    {
     "output_type": "stream",
     "name": "stdout",
     "text": [
      "tensor([1, 1, 8, 1, 1, 1, 1, 1])\n",
      "tensor([1, 8, 1, 1, 8, 1, 1, 8])\n",
      "tensor([1, 1, 1, 1, 8, 1, 8, 8])\n",
      "tensor([1, 1, 1, 1, 8, 1, 1, 8])\n"
     ]
    }
   ],
   "metadata": {}
  },
  {
   "cell_type": "markdown",
   "source": [
    "Et voilà! We now have a dataloader that gives us only samples from the classes we want."
   ],
   "metadata": {}
  }
 ],
 "metadata": {
  "title": "Using a Subset of data in PyTorch",
  "date": "2021-09-26",
  "kernelspec": {
   "display_name": "Python 3",
   "language": "python",
   "name": "python3"
  },
  "language_info": {
   "codemirror_mode": {
    "name": "ipython",
    "version": 3
   },
   "file_extension": ".py",
   "mimetype": "text/x-python",
   "name": "python",
   "nbconvert_exporter": "python",
   "pygments_lexer": "ipython3",
   "version": "3.8.8"
  }
 },
 "nbformat": 4,
 "nbformat_minor": 5
}